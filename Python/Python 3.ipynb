{
 "cells": [
  {
   "cell_type": "markdown",
   "id": "68491ced",
   "metadata": {},
   "source": [
    "## Dictionary"
   ]
  },
  {
   "cell_type": "code",
   "execution_count": 1,
   "id": "3da63a65",
   "metadata": {},
   "outputs": [],
   "source": [
    "dict1 = {\n",
    "    'Fname': 'James',\n",
    "    'Lname': 'Bond',\n",
    "    'Car': 'Aston Martin',\n",
    "    'Model': 'DB10'\n",
    "}"
   ]
  },
  {
   "cell_type": "code",
   "execution_count": 2,
   "id": "a546bb47",
   "metadata": {},
   "outputs": [
    {
     "data": {
      "text/plain": [
       "dict_keys(['Fname', 'Lname', 'Car', 'Model'])"
      ]
     },
     "execution_count": 2,
     "metadata": {},
     "output_type": "execute_result"
    }
   ],
   "source": [
    "dict1.keys()"
   ]
  },
  {
   "cell_type": "code",
   "execution_count": 3,
   "id": "3b59e267",
   "metadata": {},
   "outputs": [
    {
     "data": {
      "text/plain": [
       "dict_values(['James', 'Bond', 'Aston Martin', 'DB10'])"
      ]
     },
     "execution_count": 3,
     "metadata": {},
     "output_type": "execute_result"
    }
   ],
   "source": [
    "dict1.values()"
   ]
  },
  {
   "cell_type": "code",
   "execution_count": 4,
   "id": "40088161",
   "metadata": {},
   "outputs": [
    {
     "data": {
      "text/plain": [
       "'Aston Martin'"
      ]
     },
     "execution_count": 4,
     "metadata": {},
     "output_type": "execute_result"
    }
   ],
   "source": [
    "dict1['Car']"
   ]
  },
  {
   "cell_type": "code",
   "execution_count": 5,
   "id": "2b6c8345",
   "metadata": {},
   "outputs": [
    {
     "data": {
      "text/plain": [
       "'James'"
      ]
     },
     "execution_count": 5,
     "metadata": {},
     "output_type": "execute_result"
    }
   ],
   "source": [
    "dict1['Fname']"
   ]
  },
  {
   "cell_type": "code",
   "execution_count": 6,
   "id": "6d9b1a9a",
   "metadata": {},
   "outputs": [],
   "source": [
    "dict1['Country'] = 'England' # Adding new element\n",
    "# dict[new_key] = new_value"
   ]
  },
  {
   "cell_type": "code",
   "execution_count": 7,
   "id": "e5e7d115",
   "metadata": {},
   "outputs": [
    {
     "data": {
      "text/plain": [
       "{'Fname': 'James',\n",
       " 'Lname': 'Bond',\n",
       " 'Car': 'Aston Martin',\n",
       " 'Model': 'DB10',\n",
       " 'Country': 'England'}"
      ]
     },
     "execution_count": 7,
     "metadata": {},
     "output_type": "execute_result"
    }
   ],
   "source": [
    "dict1"
   ]
  },
  {
   "cell_type": "code",
   "execution_count": 8,
   "id": "ab11d1c7",
   "metadata": {},
   "outputs": [
    {
     "data": {
      "text/plain": [
       "'England'"
      ]
     },
     "execution_count": 8,
     "metadata": {},
     "output_type": "execute_result"
    }
   ],
   "source": [
    "dict1.pop('Country')"
   ]
  },
  {
   "cell_type": "code",
   "execution_count": 9,
   "id": "5aae0a31",
   "metadata": {},
   "outputs": [
    {
     "data": {
      "text/plain": [
       "{'Fname': 'James', 'Lname': 'Bond', 'Car': 'Aston Martin', 'Model': 'DB10'}"
      ]
     },
     "execution_count": 9,
     "metadata": {},
     "output_type": "execute_result"
    }
   ],
   "source": [
    "dict1"
   ]
  },
  {
   "cell_type": "code",
   "execution_count": 10,
   "id": "655c5f4c",
   "metadata": {},
   "outputs": [],
   "source": [
    "dict2 = {\n",
    "    'Actor': 'Daniel Craig',\n",
    "    'Year': 2008\n",
    "}"
   ]
  },
  {
   "cell_type": "code",
   "execution_count": 11,
   "id": "661bd82b",
   "metadata": {},
   "outputs": [],
   "source": [
    "dict1.update(dict2)"
   ]
  },
  {
   "cell_type": "code",
   "execution_count": 12,
   "id": "4b2c4f71",
   "metadata": {},
   "outputs": [
    {
     "data": {
      "text/plain": [
       "{'Fname': 'James',\n",
       " 'Lname': 'Bond',\n",
       " 'Car': 'Aston Martin',\n",
       " 'Model': 'DB10',\n",
       " 'Actor': 'Daniel Craig',\n",
       " 'Year': 2008}"
      ]
     },
     "execution_count": 12,
     "metadata": {},
     "output_type": "execute_result"
    }
   ],
   "source": [
    "dict1"
   ]
  },
  {
   "cell_type": "code",
   "execution_count": 13,
   "id": "47071e02",
   "metadata": {},
   "outputs": [],
   "source": [
    "dict1['new_dict'] = {\n",
    "    'A': 96845,\n",
    "    'B': 98465,\n",
    "    'C': 879865\n",
    "}"
   ]
  },
  {
   "cell_type": "code",
   "execution_count": 14,
   "id": "22aa6780",
   "metadata": {},
   "outputs": [
    {
     "data": {
      "text/plain": [
       "{'Fname': 'James',\n",
       " 'Lname': 'Bond',\n",
       " 'Car': 'Aston Martin',\n",
       " 'Model': 'DB10',\n",
       " 'Actor': 'Daniel Craig',\n",
       " 'Year': 2008,\n",
       " 'new_dict': {'A': 96845, 'B': 98465, 'C': 879865}}"
      ]
     },
     "execution_count": 14,
     "metadata": {},
     "output_type": "execute_result"
    }
   ],
   "source": [
    "dict1"
   ]
  },
  {
   "cell_type": "code",
   "execution_count": 15,
   "id": "b7c68097",
   "metadata": {},
   "outputs": [
    {
     "data": {
      "text/plain": [
       "{'Fname': 'James', 'Lname': 'Bond', 'Car': 'Aston Martin', 'Model': 'DB10'}"
      ]
     },
     "execution_count": 15,
     "metadata": {},
     "output_type": "execute_result"
    }
   ],
   "source": [
    "dict1 = {\n",
    "    'Fname': 'James',\n",
    "    'Lname': 'Bond',\n",
    "    'Car': 'Aston Martin',\n",
    "    'Model': 'DB10',\n",
    "    'Model': 'DB10'\n",
    "}\n",
    "dict1"
   ]
  },
  {
   "cell_type": "code",
   "execution_count": 16,
   "id": "685aa81d",
   "metadata": {},
   "outputs": [
    {
     "data": {
      "text/plain": [
       "{'Fname': 'James', 'Lname': 'Bond', 'Car': 'Aston Martin', 'Model': 'DBS'}"
      ]
     },
     "execution_count": 16,
     "metadata": {},
     "output_type": "execute_result"
    }
   ],
   "source": [
    "dict1 = {\n",
    "    'Fname': 'James',\n",
    "    'Lname': 'Bond',\n",
    "    'Car': 'Aston Martin',\n",
    "    'Model': 'DB10',\n",
    "    'Model': 'DBS'\n",
    "}\n",
    "dict1"
   ]
  },
  {
   "cell_type": "code",
   "execution_count": 17,
   "id": "36502144",
   "metadata": {},
   "outputs": [
    {
     "data": {
      "text/plain": [
       "{'Fname': 'James',\n",
       " 'Lname': 'Bond',\n",
       " 'Car': 'Aston Martin',\n",
       " 'Model': 'DB10',\n",
       " 'Model_old': 'DB10'}"
      ]
     },
     "execution_count": 17,
     "metadata": {},
     "output_type": "execute_result"
    }
   ],
   "source": [
    "dict1 = {\n",
    "    'Fname': 'James',\n",
    "    'Lname': 'Bond',\n",
    "    'Car': 'Aston Martin',\n",
    "    'Model': 'DB10',\n",
    "    'Model_old': 'DB10'\n",
    "}\n",
    "dict1"
   ]
  },
  {
   "cell_type": "code",
   "execution_count": 1,
   "id": "a4b3ac51",
   "metadata": {},
   "outputs": [
    {
     "data": {
      "text/plain": [
       "{'Fname': 'James',\n",
       " 'Lname': 'Bond',\n",
       " 'Car': 'Aston Martin',\n",
       " 'Model': 'DB10',\n",
       " 'model': 'DB10'}"
      ]
     },
     "execution_count": 1,
     "metadata": {},
     "output_type": "execute_result"
    }
   ],
   "source": [
    "dict1 = {\n",
    "    'Fname': 'James',\n",
    "    'Lname': 'Bond',\n",
    "    'Car': 'Aston Martin',\n",
    "    'Model': 'DB10',\n",
    "    'model': 'DB10'\n",
    "}\n",
    "dict1"
   ]
  },
  {
   "cell_type": "code",
   "execution_count": 18,
   "id": "55d71009",
   "metadata": {},
   "outputs": [
    {
     "data": {
      "text/plain": [
       "{'Fname': 'James',\n",
       " 'Lname': 'Bond',\n",
       " 'Car': 'Aston Martin',\n",
       " 'Model': 'DB10',\n",
       " 'Model_old': 'DB10'}"
      ]
     },
     "execution_count": 18,
     "metadata": {},
     "output_type": "execute_result"
    }
   ],
   "source": [
    "dict1"
   ]
  },
  {
   "cell_type": "code",
   "execution_count": 19,
   "id": "95dab8eb",
   "metadata": {},
   "outputs": [],
   "source": [
    "dict1['dict2'] = dict2"
   ]
  },
  {
   "cell_type": "markdown",
   "id": "b2f3cf8a",
   "metadata": {},
   "source": [
    "**Key always should be string**"
   ]
  },
  {
   "cell_type": "code",
   "execution_count": 20,
   "id": "e62ea7ee",
   "metadata": {},
   "outputs": [
    {
     "data": {
      "text/plain": [
       "{'Fname': 'James',\n",
       " 'Lname': 'Bond',\n",
       " 'Car': 'Aston Martin',\n",
       " 'Model': 'DB10',\n",
       " 'Model_old': 'DB10',\n",
       " 'dict2': {'Actor': 'Daniel Craig', 'Year': 2008}}"
      ]
     },
     "execution_count": 20,
     "metadata": {},
     "output_type": "execute_result"
    }
   ],
   "source": [
    "dict1"
   ]
  },
  {
   "cell_type": "code",
   "execution_count": 2,
   "id": "f77b1df5",
   "metadata": {},
   "outputs": [
    {
     "data": {
      "text/plain": [
       "{'1': 'One', 2: 'Two'}"
      ]
     },
     "execution_count": 2,
     "metadata": {},
     "output_type": "execute_result"
    }
   ],
   "source": [
    "dict1 = {\n",
    "    '1' : 'One',\n",
    "    2: 'Two'\n",
    "}\n",
    "dict1"
   ]
  },
  {
   "cell_type": "code",
   "execution_count": 4,
   "id": "4d3163cb",
   "metadata": {},
   "outputs": [
    {
     "data": {
      "text/plain": [
       "'Two'"
      ]
     },
     "execution_count": 4,
     "metadata": {},
     "output_type": "execute_result"
    }
   ],
   "source": [
    "dict1[2]"
   ]
  },
  {
   "cell_type": "code",
   "execution_count": 5,
   "id": "c3a521d5",
   "metadata": {},
   "outputs": [
    {
     "data": {
      "text/plain": [
       "'One'"
      ]
     },
     "execution_count": 5,
     "metadata": {},
     "output_type": "execute_result"
    }
   ],
   "source": [
    "dict1['1']"
   ]
  },
  {
   "cell_type": "code",
   "execution_count": 21,
   "id": "e5d39768",
   "metadata": {},
   "outputs": [
    {
     "data": {
      "text/plain": [
       "{'Actor': 'Daniel Craig', 'Year': 2008}"
      ]
     },
     "execution_count": 21,
     "metadata": {},
     "output_type": "execute_result"
    }
   ],
   "source": [
    "dict1.pop('dict2')"
   ]
  },
  {
   "cell_type": "code",
   "execution_count": 22,
   "id": "1cc1161b",
   "metadata": {},
   "outputs": [
    {
     "data": {
      "text/plain": [
       "{'Fname': 'James',\n",
       " 'Lname': 'Bond',\n",
       " 'Car': 'Aston Martin',\n",
       " 'Model': 'DB10',\n",
       " 'Model_old': 'DB10'}"
      ]
     },
     "execution_count": 22,
     "metadata": {},
     "output_type": "execute_result"
    }
   ],
   "source": [
    "dict1"
   ]
  },
  {
   "cell_type": "code",
   "execution_count": 23,
   "id": "182e6a5c",
   "metadata": {},
   "outputs": [
    {
     "data": {
      "text/plain": [
       "'DB10'"
      ]
     },
     "execution_count": 23,
     "metadata": {},
     "output_type": "execute_result"
    }
   ],
   "source": [
    "dict1['Model_old']"
   ]
  },
  {
   "cell_type": "code",
   "execution_count": 24,
   "id": "5b8e79af",
   "metadata": {},
   "outputs": [
    {
     "data": {
      "text/plain": [
       "'DB10'"
      ]
     },
     "execution_count": 24,
     "metadata": {},
     "output_type": "execute_result"
    }
   ],
   "source": [
    "dict1.pop('Model_old')"
   ]
  },
  {
   "cell_type": "code",
   "execution_count": 25,
   "id": "db326055",
   "metadata": {},
   "outputs": [
    {
     "data": {
      "text/plain": [
       "{'Fname': 'James', 'Lname': 'Bond', 'Car': 'Aston Martin', 'Model': 'DB10'}"
      ]
     },
     "execution_count": 25,
     "metadata": {},
     "output_type": "execute_result"
    }
   ],
   "source": [
    "dict1"
   ]
  },
  {
   "cell_type": "code",
   "execution_count": 26,
   "id": "395525ca",
   "metadata": {},
   "outputs": [
    {
     "ename": "KeyError",
     "evalue": "'Model_old'",
     "output_type": "error",
     "traceback": [
      "\u001b[1;31m---------------------------------------------------------------------------\u001b[0m",
      "\u001b[1;31mKeyError\u001b[0m                                  Traceback (most recent call last)",
      "\u001b[1;32m~\\AppData\\Local\\Temp\\ipykernel_10068\\3579770202.py\u001b[0m in \u001b[0;36m<cell line: 1>\u001b[1;34m()\u001b[0m\n\u001b[1;32m----> 1\u001b[1;33m \u001b[0mdict1\u001b[0m\u001b[1;33m[\u001b[0m\u001b[1;34m'Model_old'\u001b[0m\u001b[1;33m]\u001b[0m\u001b[1;33m\u001b[0m\u001b[1;33m\u001b[0m\u001b[0m\n\u001b[0m",
      "\u001b[1;31mKeyError\u001b[0m: 'Model_old'"
     ]
    }
   ],
   "source": [
    "dict1['Model_old']"
   ]
  },
  {
   "cell_type": "code",
   "execution_count": 27,
   "id": "0e5aeea3",
   "metadata": {},
   "outputs": [],
   "source": [
    "dict1.get('Model_old')"
   ]
  },
  {
   "cell_type": "code",
   "execution_count": 28,
   "id": "69599ab5",
   "metadata": {},
   "outputs": [
    {
     "data": {
      "text/plain": [
       "'Aston Martin'"
      ]
     },
     "execution_count": 28,
     "metadata": {},
     "output_type": "execute_result"
    }
   ],
   "source": [
    "dict1.get('Car')"
   ]
  },
  {
   "cell_type": "code",
   "execution_count": 29,
   "id": "a14bbc90",
   "metadata": {},
   "outputs": [
    {
     "data": {
      "text/plain": [
       "{'Fname': 'James', 'Lname': 'Bond', 'Car': 'Aston Martin', 'Model': 'DB10'}"
      ]
     },
     "execution_count": 29,
     "metadata": {},
     "output_type": "execute_result"
    }
   ],
   "source": [
    "dict1"
   ]
  },
  {
   "cell_type": "code",
   "execution_count": 30,
   "id": "445e5cf7",
   "metadata": {},
   "outputs": [],
   "source": [
    "dict1['Model'] = None"
   ]
  },
  {
   "cell_type": "code",
   "execution_count": 31,
   "id": "e760928f",
   "metadata": {},
   "outputs": [
    {
     "data": {
      "text/plain": [
       "{'Fname': 'James', 'Lname': 'Bond', 'Car': 'Aston Martin', 'Model': None}"
      ]
     },
     "execution_count": 31,
     "metadata": {},
     "output_type": "execute_result"
    }
   ],
   "source": [
    "dict1"
   ]
  },
  {
   "cell_type": "markdown",
   "id": "eeac4809",
   "metadata": {},
   "source": [
    "# String Manipulation"
   ]
  },
  {
   "cell_type": "code",
   "execution_count": 32,
   "id": "dd4d8cfd",
   "metadata": {},
   "outputs": [],
   "source": [
    "s = 'Hello World'"
   ]
  },
  {
   "cell_type": "code",
   "execution_count": 33,
   "id": "b9df7b98",
   "metadata": {},
   "outputs": [
    {
     "data": {
      "text/plain": [
       "'Hello World'"
      ]
     },
     "execution_count": 33,
     "metadata": {},
     "output_type": "execute_result"
    }
   ],
   "source": [
    "s"
   ]
  },
  {
   "cell_type": "code",
   "execution_count": 34,
   "id": "f546cac3",
   "metadata": {},
   "outputs": [
    {
     "data": {
      "text/plain": [
       "False"
      ]
     },
     "execution_count": 34,
     "metadata": {},
     "output_type": "execute_result"
    }
   ],
   "source": [
    "'z' in s"
   ]
  },
  {
   "cell_type": "code",
   "execution_count": 35,
   "id": "5fc76e0a",
   "metadata": {},
   "outputs": [
    {
     "data": {
      "text/plain": [
       "False"
      ]
     },
     "execution_count": 35,
     "metadata": {},
     "output_type": "execute_result"
    }
   ],
   "source": [
    "'h' in s"
   ]
  },
  {
   "cell_type": "code",
   "execution_count": 36,
   "id": "0706a1f3",
   "metadata": {},
   "outputs": [
    {
     "data": {
      "text/plain": [
       "True"
      ]
     },
     "execution_count": 36,
     "metadata": {},
     "output_type": "execute_result"
    }
   ],
   "source": [
    "'llo' in s"
   ]
  },
  {
   "cell_type": "code",
   "execution_count": 37,
   "id": "e587dbca",
   "metadata": {},
   "outputs": [
    {
     "data": {
      "text/plain": [
       "11"
      ]
     },
     "execution_count": 37,
     "metadata": {},
     "output_type": "execute_result"
    }
   ],
   "source": [
    "len(s)"
   ]
  },
  {
   "cell_type": "code",
   "execution_count": 38,
   "id": "73a9fd36",
   "metadata": {},
   "outputs": [
    {
     "data": {
      "text/plain": [
       "'l'"
      ]
     },
     "execution_count": 38,
     "metadata": {},
     "output_type": "execute_result"
    }
   ],
   "source": [
    "s[3]"
   ]
  },
  {
   "cell_type": "code",
   "execution_count": 39,
   "id": "c1cbc45a",
   "metadata": {},
   "outputs": [
    {
     "data": {
      "text/plain": [
       "'Hello World'"
      ]
     },
     "execution_count": 39,
     "metadata": {},
     "output_type": "execute_result"
    }
   ],
   "source": [
    "s"
   ]
  },
  {
   "cell_type": "code",
   "execution_count": 40,
   "id": "5f9c6708",
   "metadata": {},
   "outputs": [
    {
     "data": {
      "text/plain": [
       "'e'"
      ]
     },
     "execution_count": 40,
     "metadata": {},
     "output_type": "execute_result"
    }
   ],
   "source": [
    "s[1]"
   ]
  },
  {
   "cell_type": "code",
   "execution_count": 41,
   "id": "91ea42df",
   "metadata": {},
   "outputs": [
    {
     "data": {
      "text/plain": [
       "'r'"
      ]
     },
     "execution_count": 41,
     "metadata": {},
     "output_type": "execute_result"
    }
   ],
   "source": [
    "s[-3]"
   ]
  },
  {
   "cell_type": "code",
   "execution_count": 42,
   "id": "de589297",
   "metadata": {},
   "outputs": [
    {
     "data": {
      "text/plain": [
       "'ello World'"
      ]
     },
     "execution_count": 42,
     "metadata": {},
     "output_type": "execute_result"
    }
   ],
   "source": [
    "s[1:]"
   ]
  },
  {
   "cell_type": "code",
   "execution_count": 43,
   "id": "40db5693",
   "metadata": {},
   "outputs": [],
   "source": [
    "# string[start: stop: step]"
   ]
  },
  {
   "cell_type": "code",
   "execution_count": 44,
   "id": "73c998c1",
   "metadata": {},
   "outputs": [
    {
     "data": {
      "text/plain": [
       "'Hello Wor'"
      ]
     },
     "execution_count": 44,
     "metadata": {},
     "output_type": "execute_result"
    }
   ],
   "source": [
    "s[:-2]"
   ]
  },
  {
   "cell_type": "code",
   "execution_count": 45,
   "id": "c1c7bec8",
   "metadata": {},
   "outputs": [
    {
     "data": {
      "text/plain": [
       "'HloWr'"
      ]
     },
     "execution_count": 45,
     "metadata": {},
     "output_type": "execute_result"
    }
   ],
   "source": [
    "s[:-2:2]"
   ]
  },
  {
   "cell_type": "code",
   "execution_count": 46,
   "id": "b3fbdb10",
   "metadata": {},
   "outputs": [
    {
     "data": {
      "text/plain": [
       "'Hello World'"
      ]
     },
     "execution_count": 46,
     "metadata": {},
     "output_type": "execute_result"
    }
   ],
   "source": [
    "s"
   ]
  },
  {
   "cell_type": "code",
   "execution_count": 47,
   "id": "76e776c1",
   "metadata": {},
   "outputs": [
    {
     "data": {
      "text/plain": [
       "['Hello', 'World']"
      ]
     },
     "execution_count": 47,
     "metadata": {},
     "output_type": "execute_result"
    }
   ],
   "source": [
    "s.split()"
   ]
  },
  {
   "cell_type": "code",
   "execution_count": 48,
   "id": "065e499d",
   "metadata": {},
   "outputs": [
    {
     "data": {
      "text/plain": [
       "['He', '', 'o Wor', 'd']"
      ]
     },
     "execution_count": 48,
     "metadata": {},
     "output_type": "execute_result"
    }
   ],
   "source": [
    "s.split('l')"
   ]
  },
  {
   "cell_type": "code",
   "execution_count": 49,
   "id": "d331202d",
   "metadata": {},
   "outputs": [],
   "source": [
    "date = 'July-13-2023'"
   ]
  },
  {
   "cell_type": "code",
   "execution_count": 50,
   "id": "baf3bb26",
   "metadata": {},
   "outputs": [
    {
     "data": {
      "text/plain": [
       "['July', '13', '2023']"
      ]
     },
     "execution_count": 50,
     "metadata": {},
     "output_type": "execute_result"
    }
   ],
   "source": [
    "date = date.split('-')\n",
    "date"
   ]
  },
  {
   "cell_type": "code",
   "execution_count": 51,
   "id": "d937dd6a",
   "metadata": {},
   "outputs": [
    {
     "name": "stdout",
     "output_type": "stream",
     "text": [
      "Today is 13 day, July Month and 2023 Year\n"
     ]
    }
   ],
   "source": [
    "print(f'Today is {date[1]} day, {date[0]} Month and {date[2]} Year')"
   ]
  },
  {
   "cell_type": "code",
   "execution_count": 52,
   "id": "d2a5330e",
   "metadata": {},
   "outputs": [],
   "source": [
    "message = f'Today is {date[1]} day, {date[0]} Month and {date[2]} Year'"
   ]
  },
  {
   "cell_type": "code",
   "execution_count": 56,
   "id": "6cd5cb6e",
   "metadata": {},
   "outputs": [
    {
     "data": {
      "text/plain": [
       "'Today is 13 day'"
      ]
     },
     "execution_count": 56,
     "metadata": {},
     "output_type": "execute_result"
    }
   ],
   "source": [
    "'Today is '  + str(date[1]) + ' day'"
   ]
  },
  {
   "cell_type": "code",
   "execution_count": 7,
   "id": "882ef7d8",
   "metadata": {},
   "outputs": [
    {
     "data": {
      "text/plain": [
       "'9'"
      ]
     },
     "execution_count": 7,
     "metadata": {},
     "output_type": "execute_result"
    }
   ],
   "source": [
    "str(9)"
   ]
  },
  {
   "cell_type": "code",
   "execution_count": 53,
   "id": "4b0cd85b",
   "metadata": {},
   "outputs": [
    {
     "name": "stdout",
     "output_type": "stream",
     "text": [
      "Today is 13 day, July Month and 2023 Year\n"
     ]
    }
   ],
   "source": [
    "print(message)"
   ]
  },
  {
   "cell_type": "code",
   "execution_count": 8,
   "id": "f763de39",
   "metadata": {},
   "outputs": [],
   "source": [
    "message = 'I_am_groot'"
   ]
  },
  {
   "cell_type": "code",
   "execution_count": 9,
   "id": "cfa23446",
   "metadata": {},
   "outputs": [
    {
     "data": {
      "text/plain": [
       "'I am groot'"
      ]
     },
     "execution_count": 9,
     "metadata": {},
     "output_type": "execute_result"
    }
   ],
   "source": [
    "message.replace('_', ' ')\n",
    "# replace(old_value, new_value)"
   ]
  },
  {
   "cell_type": "code",
   "execution_count": 10,
   "id": "03675793",
   "metadata": {},
   "outputs": [
    {
     "data": {
      "text/plain": [
       "'I_am_Iron Man'"
      ]
     },
     "execution_count": 10,
     "metadata": {},
     "output_type": "execute_result"
    }
   ],
   "source": [
    "message.replace('groot', 'Iron Man')"
   ]
  },
  {
   "cell_type": "markdown",
   "id": "ac085679",
   "metadata": {},
   "source": [
    "# User Input"
   ]
  },
  {
   "cell_type": "code",
   "execution_count": 61,
   "id": "f795bfeb",
   "metadata": {},
   "outputs": [
    {
     "name": "stdout",
     "output_type": "stream",
     "text": [
      "Enter your name: Hari Bahadur\n"
     ]
    }
   ],
   "source": [
    "name = input('Enter your name: ')"
   ]
  },
  {
   "cell_type": "code",
   "execution_count": 62,
   "id": "a57155b4",
   "metadata": {},
   "outputs": [
    {
     "data": {
      "text/plain": [
       "'Hari Bahadur'"
      ]
     },
     "execution_count": 62,
     "metadata": {},
     "output_type": "execute_result"
    }
   ],
   "source": [
    "name"
   ]
  },
  {
   "cell_type": "code",
   "execution_count": 64,
   "id": "bdddc11b",
   "metadata": {},
   "outputs": [
    {
     "name": "stdout",
     "output_type": "stream",
     "text": [
      "Enter number 1: 45\n",
      "Enter number 2: 12\n",
      "Sum of 45 and 12 is 57\n"
     ]
    }
   ],
   "source": [
    "num1 = input('Enter number 1: ')\n",
    "num2 = input('Enter number 2: ')\n",
    "\n",
    "num1 = int(num1)\n",
    "num2 = int(num2)\n",
    "\n",
    "print(f'Sum of {num1} and {num2} is {num1 + num2}')"
   ]
  },
  {
   "cell_type": "code",
   "execution_count": 86,
   "id": "5f3b1dc4",
   "metadata": {},
   "outputs": [
    {
     "name": "stdout",
     "output_type": "stream",
     "text": [
      "Enter your full name: Radha Piyari\n"
     ]
    }
   ],
   "source": [
    "name = input('Enter your full name: ')"
   ]
  },
  {
   "cell_type": "code",
   "execution_count": 87,
   "id": "bc2f6e01",
   "metadata": {},
   "outputs": [],
   "source": [
    "name = name.split(' ')\n",
    "# name.split('')"
   ]
  },
  {
   "cell_type": "code",
   "execution_count": 88,
   "id": "eec5d978",
   "metadata": {},
   "outputs": [
    {
     "data": {
      "text/plain": [
       "['Radha', 'Piyari']"
      ]
     },
     "execution_count": 88,
     "metadata": {},
     "output_type": "execute_result"
    }
   ],
   "source": [
    "name"
   ]
  },
  {
   "cell_type": "code",
   "execution_count": 89,
   "id": "bf8845b1",
   "metadata": {},
   "outputs": [
    {
     "name": "stdout",
     "output_type": "stream",
     "text": [
      "First Name: Radha, Last Name: Piyari\n"
     ]
    }
   ],
   "source": [
    "print(f'First Name: {name[0]}, Last Name: {name[-1]}')"
   ]
  },
  {
   "cell_type": "markdown",
   "id": "941a9e67",
   "metadata": {},
   "source": [
    "# Exception Handling\n",
    "\n",
    "```python\n",
    "try:\n",
    "    # codes with error\n",
    "except error_type:\n",
    "    # error handling code\n",
    "```"
   ]
  },
  {
   "cell_type": "code",
   "execution_count": 15,
   "id": "d661bb4f",
   "metadata": {},
   "outputs": [
    {
     "name": "stdout",
     "output_type": "stream",
     "text": [
      "5/10 is 0.5\n"
     ]
    }
   ],
   "source": [
    "a = 5\n",
    "b = 10\n",
    "try:\n",
    "    print(f'{a}/{b} is {a / b}')\n",
    "except ZeroDivisionError:\n",
    "    print('Cannot Divide by Zero')"
   ]
  },
  {
   "cell_type": "code",
   "execution_count": null,
   "id": "3cdfcddb",
   "metadata": {},
   "outputs": [],
   "source": []
  }
 ],
 "metadata": {
  "kernelspec": {
   "display_name": "Python 3 (ipykernel)",
   "language": "python",
   "name": "python3"
  },
  "language_info": {
   "codemirror_mode": {
    "name": "ipython",
    "version": 3
   },
   "file_extension": ".py",
   "mimetype": "text/x-python",
   "name": "python",
   "nbconvert_exporter": "python",
   "pygments_lexer": "ipython3",
   "version": "3.9.13"
  }
 },
 "nbformat": 4,
 "nbformat_minor": 5
}
